{
 "cells": [
  {
   "cell_type": "markdown",
   "source": [
    "# PROYECTO 1 ALGEBRA LINEAL PARA CIENCIA DE DATOS (IMT 2210)\r\n",
    "#### INTEGRANTES : \r\n",
    "#### - Benjamin Prieto\r\n",
    "#### - Benjamin Varela\r\n",
    "#### - Victor Bórquez"
   ],
   "metadata": {}
  },
  {
   "cell_type": "markdown",
   "source": [
    "#### Primero importamos los modulos necesarios:"
   ],
   "metadata": {}
  },
  {
   "cell_type": "code",
   "execution_count": 3,
   "source": [
    "import pandas as pd\r\n",
    "from vec import Vec"
   ],
   "outputs": [],
   "metadata": {}
  },
  {
   "cell_type": "markdown",
   "source": [
    "### A) Para cada usuario, crear su vector de gustos, utilizando la clase Vec. Donde el dominio son el id de las peliculas y la funcion movie.id-> rating (utilizando diccionario). Guardar los vectores en un diccionario users"
   ],
   "metadata": {}
  },
  {
   "cell_type": "markdown",
   "source": [
    "Abrimos el archivo movies.csv para sacar los ids de todas las películas"
   ],
   "metadata": {}
  },
  {
   "cell_type": "code",
   "execution_count": null,
   "source": [
    "with open('movies.csv', 'r') as docu:\r\n",
    "    arc = docu.readlines()\r\n",
    "    #el len(arc) es uno mas que el ult id de pelicula\r\n",
    "    lista_pelis = []\r\n",
    "    for i in range(1, len(arc)):\r\n",
    "        lista_pelis.append(i)\r\n",
    "    dominio = set(lista_pelis)"
   ],
   "outputs": [],
   "metadata": {}
  },
  {
   "cell_type": "markdown",
   "source": [
    "Abrimos el archivo rating.csv para "
   ],
   "metadata": {}
  },
  {
   "cell_type": "code",
   "execution_count": 4,
   "source": [
    "with open('ratings.csv', 'r') as file:\r\n",
    "    a = file.readlines()\r\n",
    "\r\n",
    "id_actual = 1\r\n",
    "dicc = {}\r\n",
    "users = {} \r\n",
    "\r\n",
    "for linea in a:\r\n",
    "    linea = linea.strip('\\n')\r\n",
    "    id_us, id_pel, ratio = linea.split(',', 2)\r\n",
    "    if id_us.isnumeric() == True:\r\n",
    "        id_us = int(id_us)\r\n",
    "        id_pel = int(id_pel)\r\n",
    "        ratio = int(ratio)\r\n",
    "        if id_us == id_actual:\r\n",
    "            dicc[id_pel] = ratio\r\n",
    "        else:\r\n",
    "            vector = Vec(dominio, dicc)\r\n",
    "            users[id_actual] = vector\r\n",
    "            dicc = {}\r\n",
    "            dicc[id_pel] = ratio\r\n",
    "            id_actual = id_us\r\n",
    "vector = Vec(dominio, dicc)\r\n",
    "users[id_us] = vector\r\n"
   ],
   "outputs": [],
   "metadata": {}
  }
 ],
 "metadata": {
  "orig_nbformat": 4,
  "language_info": {
   "name": "python",
   "version": "3.9.2",
   "mimetype": "text/x-python",
   "codemirror_mode": {
    "name": "ipython",
    "version": 3
   },
   "pygments_lexer": "ipython3",
   "nbconvert_exporter": "python",
   "file_extension": ".py"
  },
  "kernelspec": {
   "name": "python3",
   "display_name": "Python 3.9.2 64-bit"
  },
  "interpreter": {
   "hash": "e163f6dc755e3f5ee4e51757169cbf4c5bf61c999acb41dad94c865ecb280cf3"
  }
 },
 "nbformat": 4,
 "nbformat_minor": 2
}