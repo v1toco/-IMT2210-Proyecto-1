{
 "cells": [
  {
   "cell_type": "markdown",
   "source": [
    "# PROYECTO 1 ALGEBRA LINEAL PARA CIENCIA DE DATOS (IMT 2210)\r\n",
    "#### INTEGRANTES : \r\n",
    "#### - Benjamin Prieto\r\n",
    "#### - Benjamin Varela\r\n",
    "#### - Victor Bórquez"
   ],
   "metadata": {}
  },
  {
   "cell_type": "markdown",
   "source": [
    "#### Primero importamos los modulos necesarios:"
   ],
   "metadata": {}
  },
  {
   "cell_type": "code",
   "execution_count": 17,
   "source": [
    "import pandas as pd\r\n",
    "import vec"
   ],
   "outputs": [],
   "metadata": {}
  },
  {
   "cell_type": "markdown",
   "source": [
    "### A) Para cada usuario, crear su vector de gustos, utilizando la clase Vec. Donde el dominio son el id de las peliculas y la funcion movie.id-> rating (utilizando diccionario). Guardar los vectores en un diccionario users"
   ],
   "metadata": {}
  },
  {
   "cell_type": "markdown",
   "source": [
    "Abrimos el archivo movies.csv para sacar los ids de todas las películas"
   ],
   "metadata": {}
  },
  {
   "cell_type": "code",
   "execution_count": 18,
   "source": [
    "with open('movies.csv', 'r') as docu:\r\n",
    "    arc = docu.readlines()\r\n",
    "    # el len(arc) es uno mas que el ult id de pelicula\r\n",
    "    lista_pelis = []\r\n",
    "    diccionario_pelis = {}\r\n",
    "    for i in range(1, len(arc)):\r\n",
    "        lista_pelis.append(i)\r\n",
    "        id_pel, nombre = arc[i].strip('\\n').split(',',1)\r\n",
    "        id_pel = int(id_pel)\r\n",
    "        diccionario_pelis[id_pel] = nombre\r\n",
    "    dominio = set(lista_pelis)"
   ],
   "outputs": [],
   "metadata": {}
  },
  {
   "cell_type": "markdown",
   "source": [
    "Ahora que ya tenemos el dominio para crear una instancia de Vec, debemos crear un diccionario que tenga el {id de la pelicula : rating}\r\n",
    "Para eso, abrimos el archivo ratings.csv y creamos los vectores y por cada usuario lo incorporamos a un diccionario llamado users."
   ],
   "metadata": {}
  },
  {
   "cell_type": "code",
   "execution_count": 19,
   "source": [
    "with open('ratings.csv', 'r') as file:\r\n",
    "    a = file.readlines()\r\n",
    "\r\n",
    "id_actual = 1\r\n",
    "dicc = {}\r\n",
    "users = {} \r\n",
    "\r\n",
    "for linea in a:\r\n",
    "    linea = linea.strip('\\n')\r\n",
    "    id_us, id_pel, ratio = linea.split(',', 2)\r\n",
    "    if id_us.isnumeric() == True:\r\n",
    "        id_us = int(id_us)\r\n",
    "        id_pel = int(id_pel)\r\n",
    "        ratio = int(ratio)\r\n",
    "        if id_us == id_actual:\r\n",
    "            dicc[id_pel] = ratio\r\n",
    "        else:\r\n",
    "            vector = vec.Vec(dominio, dicc)\r\n",
    "            users[id_actual] = vector\r\n",
    "            dicc = {}\r\n",
    "            dicc[id_pel] = ratio\r\n",
    "            id_actual = id_us\r\n",
    "vector = vec.Vec(dominio, dicc)\r\n",
    "users[id_us] = vector\r\n"
   ],
   "outputs": [],
   "metadata": {}
  },
  {
   "cell_type": "markdown",
   "source": [
    "### B) LA B"
   ],
   "metadata": {}
  },
  {
   "cell_type": "code",
   "execution_count": 20,
   "source": [
    "with open('ratings.csv', 'r') as file:\r\n",
    "    a = file.readlines()\r\n",
    "\r\n",
    "id_actual = 1\r\n",
    "lista_ids_us = []\r\n",
    "for linea in a:\r\n",
    "    linea = linea.strip('\\n')\r\n",
    "    id_us, id_pel, ratio = linea.split(',', 2)\r\n",
    "    if id_us.isnumeric() == True:\r\n",
    "        id_us = int(id_us)\r\n",
    "        if id_us == id_actual:\r\n",
    "            if id_us not in lista_ids_us:\r\n",
    "                lista_ids_us.append(id_us)\r\n",
    "        else:\r\n",
    "            id_actual = id_us\r\n",
    "            lista_ids_us.append(id_us)\r\n",
    "dominio2 = set(lista_ids_us)"
   ],
   "outputs": [],
   "metadata": {}
  },
  {
   "cell_type": "markdown",
   "source": [
    "aass"
   ],
   "metadata": {}
  },
  {
   "cell_type": "code",
   "execution_count": 21,
   "source": [
    "def ordenar_segundo(lista):\r\n",
    "    return(lista[1])\r\n",
    "\r\n",
    "lista_ordenada_pelis = []\r\n",
    "for linea in a:\r\n",
    "    linea = linea.strip('\\n')\r\n",
    "    id_us, id_pel, ratio = linea.split(',', 2)\r\n",
    "    if id_us.isnumeric() == True:\r\n",
    "        lista_ordenada_pelis.append([int(id_us), int(id_pel), int(ratio)])\r\n",
    "\r\n",
    "lista_ordenada_pelis.sort(key = ordenar_segundo)\r\n",
    "\r\n",
    "pel_actual = 1\r\n",
    "dicc = {}\r\n",
    "movies = {}\r\n",
    "for linea in lista_ordenada_pelis:\r\n",
    "    id_us = linea[0]\r\n",
    "    id_pel = linea[1]\r\n",
    "    ratio = linea[2]\r\n",
    "    \r\n",
    "    if id_pel == pel_actual:\r\n",
    "        dicc[id_us] = ratio\r\n",
    "    else:\r\n",
    "        vector = vec.Vec(dominio2, dicc)\r\n",
    "        movies[pel_actual] = vector\r\n",
    "        dicc = {}\r\n",
    "        dicc[id_us] = ratio\r\n",
    "        pel_actual = id_pel\r\n",
    "vector = vec.Vec(dominio2, dicc)\r\n",
    "movies[id_pel] = vector\r\n",
    "    "
   ],
   "outputs": [],
   "metadata": {}
  },
  {
   "cell_type": "markdown",
   "source": [
    "parte c"
   ],
   "metadata": {}
  },
  {
   "cell_type": "code",
   "execution_count": 22,
   "source": [
    "def sim(u, v):\r\n",
    "    punto =  vec.dot(u,v)\r\n",
    "    punto_2 = (vec.dot(u,u))**(1/2)\r\n",
    "    punto_3 = (vec.dot(v, v))**(1/2)\r\n",
    "    r = punto/(punto_2*punto_3)\r\n",
    "    return r\r\n",
    "\r\n",
    "def vecinos(users, user_id, k):\r\n",
    "    usuario = users[user_id]\r\n",
    "    lista_sim = []\r\n",
    "    for i in users:\r\n",
    "        if i != user_id:\r\n",
    "            simi = sim(usuario, users[i])\r\n",
    "            lista_sim.append([i, simi])\r\n",
    "    lista_sim.sort(key = ordenar_segundo, reverse = True )\r\n",
    "    lista_vecinos = []\r\n",
    "    for i in range(k):\r\n",
    "        lista_vecinos.append(tuple(lista_sim[i]))\r\n",
    "    return lista_vecinos\r\n"
   ],
   "outputs": [],
   "metadata": {}
  },
  {
   "cell_type": "markdown",
   "source": [
    "eje d"
   ],
   "metadata": {}
  },
  {
   "cell_type": "code",
   "execution_count": 23,
   "source": [
    "var = vecinos(users, 100, 50)\r\n",
    "id_pelicula = 286\r\n",
    "lista_vecinos_correctos = []\r\n",
    "for a in var:\r\n",
    "    id_usuario = a[0]\r\n",
    "    if id_pelicula in users[id_usuario].f:\r\n",
    "        lista_vecinos_correctos.append(id_usuario)\r\n",
    "\r\n",
    "cant_vecinos = len(lista_vecinos_correctos)\r\n",
    "f'Dentro de los 50 vecinos cercanos del usuario 100, {cant_vecinos} han calificado la pelicula 286'"
   ],
   "outputs": [
    {
     "output_type": "execute_result",
     "data": {
      "text/plain": [
       "'Dentro de los 50 vecinos cercanos del usuario 100, 42 han calificado la pelicula 286'"
      ]
     },
     "metadata": {},
     "execution_count": 23
    }
   ],
   "metadata": {}
  },
  {
   "cell_type": "markdown",
   "source": [
    "ACA EXPLICAR PQ ESTA WEA ES USELESS, Y EL K ESTA MUY ALTO, ASI Q ARGUMENTAR ESO, decir q si sacamos el vecino mas lejano no tiene una similitud ni de un 40% por lo q seria raro que alguien con tan baja similitud te ayude a predecir el rating"
   ],
   "metadata": {}
  },
  {
   "cell_type": "markdown",
   "source": [
    "nosotros creemos que un k = 10 seria acorde pq entrega una muestra mejor representativa de los vecinos del user 100"
   ],
   "metadata": {}
  },
  {
   "cell_type": "code",
   "execution_count": 24,
   "source": [
    "var = vecinos(users, 100, 10)\r\n",
    "id_pelicula = 286\r\n",
    "lista_vecinos_correctos = []\r\n",
    "suma_ptjs = 0\r\n",
    "for a in var:\r\n",
    "    id_usuario = a[0]\r\n",
    "    if id_pelicula in users[id_usuario].f:\r\n",
    "        suma_ptjs += users[id_usuario].f[id_pelicula]\r\n",
    "        lista_vecinos_correctos.append(id_usuario)\r\n",
    "print(lista_vecinos_correctos)\r\n",
    "promedio = suma_ptjs / len(lista_vecinos_correctos)\r\n",
    "print(promedio)"
   ],
   "outputs": [
    {
     "output_type": "stream",
     "name": "stdout",
     "text": [
      "[863, 784, 611, 587, 752, 841, 926, 827]\n",
      "3.75\n"
     ]
    }
   ],
   "metadata": {}
  },
  {
   "cell_type": "markdown",
   "source": [
    "Ejercicio 5"
   ],
   "metadata": {}
  },
  {
   "cell_type": "code",
   "execution_count": 25,
   "source": [
    "cercanos = vecinos(users, 400, 30)\r\n",
    "\r\n",
    "puerta = False\r\n",
    "for i in cercanos:\r\n",
    "    user_actual = i[0]\r\n",
    "    if puerta == False:\r\n",
    "        suma = vec.scalar_mul(users[user_actual],1/30)\r\n",
    "        puerta = True\r\n",
    "    else:\r\n",
    "        actual = vec.scalar_mul(users[user_actual],1/30)\r\n",
    "        suma = vec.add(suma, actual)\r\n",
    "\r\n",
    "decreciente = sorted(suma.f.items(), key = lambda x:x[1], reverse = True)\r\n",
    "\r\n",
    "\r\n",
    "for a in range(10):\r\n",
    "    id_peli = decreciente[a][0]\r\n",
    "    print(diccionario_pelis[id_peli])"
   ],
   "outputs": [
    {
     "output_type": "stream",
     "name": "stdout",
     "text": [
      "Titanic (1997)\n",
      "Air Force One (1997)\n",
      "Contact (1997)\n",
      "Scream (1996)\n",
      "\"Saint, The (1997)\"\n",
      "Conspiracy Theory (1997)\n",
      "\"Full Monty, The (1997)\"\n",
      "Liar Liar (1997)\n",
      "Scream 2 (1997)\n",
      "\"English Patient, The (1996)\"\n"
     ]
    }
   ],
   "metadata": {}
  },
  {
   "cell_type": "markdown",
   "source": [],
   "metadata": {}
  }
 ],
 "metadata": {
  "orig_nbformat": 4,
  "language_info": {
   "name": "python",
   "version": "3.9.2",
   "mimetype": "text/x-python",
   "codemirror_mode": {
    "name": "ipython",
    "version": 3
   },
   "pygments_lexer": "ipython3",
   "nbconvert_exporter": "python",
   "file_extension": ".py"
  },
  "kernelspec": {
   "name": "python3",
   "display_name": "Python 3.9.2 64-bit"
  },
  "interpreter": {
   "hash": "e163f6dc755e3f5ee4e51757169cbf4c5bf61c999acb41dad94c865ecb280cf3"
  }
 },
 "nbformat": 4,
 "nbformat_minor": 2
}